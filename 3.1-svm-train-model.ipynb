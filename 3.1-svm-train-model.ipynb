{
 "cells": [
  {
   "cell_type": "markdown",
   "id": "d3489a07",
   "metadata": {},
   "source": [
    "## CPV Classifier POC\n",
    "\n",
    "## 3.1 - Train SVM\n",
    "\n",
    "Uses a simple Support Vector Machine: sklearn's LinearSVC (Support Vector Classifier).\n",
    "\n",
    "See https://theybuyforyou.eu/ for background on TheyBuyForYou and http://data.tbfy.eu/ for information on the Knowledge Graph (KG) data that was created as part of this project. Data from the knowledge graph used in this proof of concept is made available under the following license terms and therefore the same license applies to the code and data in this repository.\n",
    "\n",
    "> The KG data is provided under the Creative Commons BY-NC-SA 4.0 License, which allows you to use, share and adapt the data for non-commercial uses as long as you give appropriate credit and share any adapted data under the same license as the original. If you wish to use the data for commercial uses please contact the TheyBuyForYou project.\n",
    "\n",
    "The full CPV listing included in this repo was downloaded from https://simap.ted.europa.eu/cpv"
   ]
  },
  {
   "cell_type": "code",
   "execution_count": 1,
   "id": "0f1dcb4d",
   "metadata": {},
   "outputs": [],
   "source": [
    "import pandas as pd\n",
    "import shelve"
   ]
  },
  {
   "cell_type": "markdown",
   "id": "7c7618ba",
   "metadata": {},
   "source": [
    "## Load data\n",
    "\n",
    "Also convert text to lowercase so it's a fair comparison to the uncased model used in the transformers version"
   ]
  },
  {
   "cell_type": "code",
   "execution_count": 2,
   "id": "f3e67c3b",
   "metadata": {},
   "outputs": [],
   "source": [
    "with shelve.open(\"data/train_val.shelf\") as db:\n",
    "    sents_train = db[\"sents_train\"]\n",
    "    sents_val = db[\"sents_val\"]\n",
    "    cpv_train = db[\"cpv_train\"]\n",
    "    cpv_val = db[\"cpv_val\"]\n",
    "    label2id = db[\"label2id\"]\n",
    "    id2label = db[\"id2label\"]"
   ]
  },
  {
   "cell_type": "code",
   "execution_count": 3,
   "id": "e4748d33",
   "metadata": {},
   "outputs": [],
   "source": [
    "sents_train = [x.lower() for x in sents_train]\n",
    "sents_val = [x.lower() for x in sents_val]"
   ]
  },
  {
   "cell_type": "markdown",
   "id": "83bfd4ff",
   "metadata": {},
   "source": [
    "## Prepare & Train model"
   ]
  },
  {
   "cell_type": "code",
   "execution_count": 4,
   "id": "0a09fe0b",
   "metadata": {},
   "outputs": [],
   "source": [
    "from sklearn.feature_extraction.text import TfidfVectorizer\n",
    "tfidf = TfidfVectorizer(max_df=0.9, max_features=5000, stop_words='english')\n",
    "\n",
    "# Rename variables to be more commonly-used ones\n",
    "X_train = tfidf.fit_transform(sents_train)\n",
    "X_test = tfidf.transform(sents_val)\n",
    "Y_train = cpv_train\n",
    "Y_test = cpv_val"
   ]
  },
  {
   "cell_type": "code",
   "execution_count": 5,
   "id": "52713a3a",
   "metadata": {},
   "outputs": [
    {
     "name": "stdout",
     "output_type": "stream",
     "text": [
      "max_iter 1 // accuracy: 0.47173417927444283. Completed in 0:00:25.276647 after 1 iteration(s)\n",
      "Saving new best model\n"
     ]
    },
    {
     "name": "stdout",
     "output_type": "stream",
     "text": [
      "max_iter 10 // accuracy: 0.6314869041809013. Completed in 0:01:46.374777 after 10 iteration(s)\n",
      "Saving new best model\n",
      "max_iter 100 // accuracy: 0.6339677891654466. Completed in 0:02:18.461116 after 56 iteration(s)\n",
      "Saving new best model\n",
      "max_iter 1000 // accuracy: 0.6339677891654466. Completed in 0:02:16.402993 after 56 iteration(s)\n"
     ]
    }
   ],
   "source": [
    "from sklearn.metrics import accuracy_score\n",
    "from sklearn.svm import LinearSVC\n",
    "from datetime import datetime\n",
    "\n",
    "best_model = None\n",
    "best_accuracy = 0\n",
    "\n",
    "for i in [1,10,100,1_000]:\n",
    "    svc = LinearSVC(max_iter = i)\n",
    "    start = datetime.now()\n",
    "    svc.fit(X_train, Y_train)\n",
    "    finish = datetime.now()\n",
    "    preds = svc.predict(X_test)\n",
    "    accuracy = accuracy_score(preds,Y_test)\n",
    "    print(f\"max_iter {i} // accuracy: {accuracy}. Completed in {finish - start} after {svc.n_iter_} iteration(s)\")\n",
    "    if accuracy > best_accuracy:\n",
    "        best_accuracy=accuracy\n",
    "        print(\"Saving new best model\")\n",
    "        best_model = svc\n"
   ]
  },
  {
   "cell_type": "markdown",
   "id": "92147277",
   "metadata": {},
   "source": [
    "## Save best model"
   ]
  },
  {
   "cell_type": "code",
   "execution_count": 6,
   "id": "2cadb7b3",
   "metadata": {},
   "outputs": [],
   "source": [
    "import pickle\n",
    "\n",
    "with open(\"models/svc/tfidf.pickle\",\"wb\") as f: pickle.dump(tfidf,f)\n",
    "with open(\"models/svc/svc.pickle\",\"wb\") as f: pickle.dump(best_model,f)\n"
   ]
  }
 ],
 "metadata": {
  "kernelspec": {
   "display_name": "Python 3 (ipykernel)",
   "language": "python",
   "name": "python3"
  },
  "language_info": {
   "codemirror_mode": {
    "name": "ipython",
    "version": 3
   },
   "file_extension": ".py",
   "mimetype": "text/x-python",
   "name": "python",
   "nbconvert_exporter": "python",
   "pygments_lexer": "ipython3",
   "version": "3.8.12"
  }
 },
 "nbformat": 4,
 "nbformat_minor": 5
}
