{
 "cells": [
  {
   "cell_type": "markdown",
   "id": "c10077b6",
   "metadata": {},
   "source": [
    "# CPV Classifier POC\n",
    "\n",
    "## 1 - Get Data\n",
    "\n",
    "Simple transformer-based classifier proof of concept based on data from TheyBuyForYou.\n",
    "\n",
    "See https://theybuyforyou.eu/ for background on TheyBuyForYou and http://data.tbfy.eu/ for information on the Knowledge Graph (KG) data that was created as part of this project. Data from the knowledge graph used in this proof of concept is made available under the following license terms and therefore the same license applies to the code and data in this repository.\n",
    "\n",
    "> The KG data is provided under the Creative Commons BY-NC-SA 4.0 License, which allows you to use, share and adapt the data for non-commercial uses as long as you give appropriate credit and share any adapted data under the same license as the original. If you wish to use the data for commercial uses please contact the TheyBuyForYou project."
   ]
  },
  {
   "cell_type": "code",
   "execution_count": 1,
   "id": "6ee55016",
   "metadata": {},
   "outputs": [],
   "source": [
    "import os\n",
    "import random\n",
    "import json\n",
    "from tbfy_util import *\n",
    "from typing import List\n",
    "import pandas as pd\n",
    "from collections import Counter\n",
    "import shelve\n",
    "import nltk"
   ]
  },
  {
   "cell_type": "markdown",
   "id": "d6b0d1dc",
   "metadata": {},
   "source": [
    "## Load data\n",
    "\n",
    "The data used comes from the TheyBuyForYou Knowledge Graph (KG) which is available via http://dump.tbfy.eu, though it is hosted on Zenodo. The zipfile is approx 5Gb so is not included in this repo. If you want to re-create these steps from scratch you will need to do the following:\n",
    "\n",
    "1. Install zenodo_get (see https://zenodo.org/record/1261813#.YXMpDZvTVH4). This utility takes away a lot of headaches when trying to download large zenodo files\n",
    "2. Download the JSON dump file (via http://dump.tbfy.eu or https://zenodo.org/record/5546616#.YXMoOZvTVH4) to the `data` directory\n",
    "3. Unzip it"
   ]
  },
  {
   "cell_type": "code",
   "execution_count": 2,
   "id": "69ad2f4f",
   "metadata": {},
   "outputs": [
    {
     "name": "stdout",
     "output_type": "stream",
     "text": [
      "2211031 files found\n"
     ]
    }
   ],
   "source": [
    "files = [os.path.join(dp, f) for dp, dn, fn in os.walk(os.path.expanduser(\"./data/3_JSON_Enriched\")) for f in fn if \"release\" in f]\n",
    "l = len(files)\n",
    "print(f\"{l} files found\")"
   ]
  },
  {
   "cell_type": "markdown",
   "id": "0d33c0e0",
   "metadata": {},
   "source": [
    "## Have a look at some examples"
   ]
  },
  {
   "cell_type": "code",
   "execution_count": 3,
   "id": "ac1c8432",
   "metadata": {
    "scrolled": true
   },
   "outputs": [
    {
     "data": {
      "text/plain": [
       "{'uri': 'https://openopps.com/tenders/ocds-0c46vo-0049-e5543718-8753-4bb3-8015-590d58b7f93e/?format=json',\n",
       " 'license': 'https://opendatacommons.org/licenses/odbl/',\n",
       " 'releases': [{'id': 'e5543718-8753-4bb3-8015-590d58b7f93e',\n",
       "   'tag': ['tender'],\n",
       "   'date': '2019-08-01T00:00:00+00:00',\n",
       "   'ocid': 'ocds-0c46vo-0049-e5543718-8753-4bb3-8015-590d58b7f93e',\n",
       "   'buyer': {'address': {'countryName': 'Germany'}},\n",
       "   'tender': {'id': 'e5543718-8753-4bb3-8015-590d58b7f93e',\n",
       "    'title': 'Roh\\xadbau\\xadar\\xadbei\\xadten, Ver\\xadblend\\xadmau\\xader\\xadwerk: Grund\\xadschu\\xadle Süd\\xadstadt, Oer\\xadling\\xadhau\\xadsen',\n",
       "    'status': 'active',\n",
       "    'documents': [{'id': 'tender_url',\n",
       "      'url': 'https://www.service.bund.de/IMPORTE/Ausschreibungen/healyhudson/2019/08/e5543718-8753-4bb3-8015-590d58b7f93e.html;jsessionid=F2A7F85653A12235DC3B51EA48D3847C.1_cid296?nn=4641482&type=0&searchResult=true',\n",
       "      'format': 'text/html',\n",
       "      'language': 'en',\n",
       "      'documentType': 'tenderNotice'}],\n",
       "    'description': 'Neubau Grundschule Südstadt mit Stadtteilzentrum\\nTheodor-Heuss-Straße\\n33813 Oerlinghausen\\nUmfang der Ausschreibung:\\nGrundschule, 3-geschossig, Flachdach, ca. 58,5 x 25,0 m,\\n978,00 m3 Stahlbeton-Wände,\\n1.845,00 m3 Stahlbeton Decken und Sohle,\\n1.100,00 m2 Verblendmauerwerk, Ziegel-Fassade.',\n",
       "    'tenderPeriod': {'endDate': '2019-08-21T00:00:00+00:00',\n",
       "     'startDate': '2019-08-01T00:00:00+00:00'},\n",
       "    'procurementMethod': 'Bauleistungen (VOB)'},\n",
       "   'language': 'de',\n",
       "   'initiationType': 'tender'}],\n",
       " 'publisher': {'uid': 'https://beta.companieshouse.gov.uk/company/04962733',\n",
       "  'uri': 'https://openopps.com',\n",
       "  'name': 'Open Opps',\n",
       "  'scheme': 'Companies House'},\n",
       " 'publishedDate': '2019-08-07T01:34:19.220491+00:00',\n",
       " 'publicationPolicy': 'https://openopps.com/legal/'}"
      ]
     },
     "execution_count": 3,
     "metadata": {},
     "output_type": "execute_result"
    }
   ],
   "source": [
    "idx = random.randrange(0,l)\n",
    "f = files[idx]\n",
    "j = json.load(open(f,'r'))\n",
    "j"
   ]
  },
  {
   "cell_type": "code",
   "execution_count": 4,
   "id": "3eb1d7c8",
   "metadata": {},
   "outputs": [
    {
     "name": "stdout",
     "output_type": "stream",
     "text": [
      "**************************************************\n",
      "File id: 1543770, Language: fr\n",
      "Title: Marché de mandat de maîtrise d'ouvrage dans le cadre de la construction d'un bâtiment à usage de résidence d'hébergement, activités de formation et d'un logement sur le site CREPS à Essey-lès-Nancy\n",
      "Description (up to 500 chars): Mission de mandat de maîtrise d'ouvrage dans le cadre de la construction d'un bâtiment.\n",
      "Classification code 79933000 and scheme CPV\n",
      "\n",
      "**************************************************\n",
      "File id: 1893919, Language: ro\n",
      "Title: „Furnizare echipamente informatice și licențe software”\n",
      "Description (up to 500 chars): Achiziția „Furnizare echipamente informatice si licente software” divizata in 14 loturi.Numărul de zile până la care se pot solicita clarificări înainte de data-limită de depunere a ofertelor/candidaturilor: 19 zile. Autoritatea contractanta va raspunde in mod clar si complet tuturor solicitarilor de clarificari/informatii suplimentare in a 11-a zi inainte de data-limita de depunere a ofertelor.\n",
      "Imprimante multifunctionale de mare volum - 4 buc. Sistem PC (UC, monitor, tastatura, mouse) - 142 bu\n",
      "Classification code 30213000 and scheme CPV\n",
      "\n",
      "**************************************************\n",
      "File id: 738600, Language: ro\n",
      "Title: Navă specializată SAR\n",
      "Description (up to 500 chars): Nava specializata SAR, conform caietului de sarcini.(a) Numar de zile pana la care se pot solicita clarificari inainte de data-limita de depunere a ofertelor: 20 de zile;(b) Numarul de zile in care autoritatea contractanta va raspunde in mod clar si complet tuturor solicitarilor de clarificare/informatii suplimentare: in a 10-a zi zi inainte de termenul-limita de depunere al ofertelor.Orice solicitare de clarificare transmisa dupa data mentionata la pct. a) va pune AC in imposibilitatea de a ofe\n",
      "Classification code 34513700 and scheme CPV\n",
      "\n",
      "**************************************************\n",
      "File id: 673330, Language: de\n",
      "Title: Aus­tausch Heiz­kör­per­ven­ti­le\n",
      "Description (up to 500 chars): Austausch Heizkörperventile\n",
      "Classification code None and scheme None\n",
      "\n",
      "**************************************************\n",
      "File id: 484478, Language: fr\n",
      "Title: RESTAURATION ET RENFORCEMENT A L'IDENTIQUE DE 2 PONTS\n",
      "Description (up to 500 chars): RESTAURATION ET RENFORCEMENT A L'IDENTIQUE DE 2 PONTS\n",
      "Classification code None and scheme None\n",
      "\n",
      "**************************************************\n",
      "File id: 166036, Language: fr\n",
      "Title: TRAVAUX DE RENOUVELLEMENT DES LUMINAIRES D'ECLAIRAGE PUBLIC - TRANCHE 1\n",
      "Description (up to 500 chars): La consultation porte sur les TRAVAUX DE RENOUVELLEMENT DES LUMINAIRES D'ECLAIRAGE PUBLIC - TRANCHE 1 (commune de Saint Denis).La présente consultation est passée sous la forme d'une procédure adaptée en application des dispositions de l'article R2123-1 du CCP.\n",
      "Classification code None and scheme None\n",
      "\n",
      "**************************************************\n",
      "File id: 310776, Language: de\n",
      "Title: Stadt Vlo­tho – Er­stel­lung ei­nes Kli­ma­schutz­teil­kon­zep­tes\n",
      "Description (up to 500 chars): Stadt Vlotho – Erstellung eines Klimaschutzteilkonzeptes \"Klimaschutz in eigenen Liegenschaften und Portfoliomanagement“\n",
      "Classification code None and scheme None\n",
      "\n",
      "**************************************************\n",
      "File id: 118820, Language: bg\n",
      "Title: Развитие и модернизация на комуникационните мрежи на БАН, осигуряване достъп до интернет, защита от DDoS атаки и предоставяне на услуги от доставчик на интернет за нуждите на БАН и звена на БАН.\n",
      "Description (up to 500 chars): I. Осигуряване на комуникационна свързаност към звената на БАН, както следва:I.1. Осигуряване на оптична свързаност през MAN, осигурен от участника (доставчика), чрез VLAN технология с гарантирана скорост минимум 1000 Mbps до минимум 4 входни точки на мрежата на БАН, намиращи се на територията на гр. София.I.2. Към момента на първоначалното предоставяне на услугите следва да бъде осигурена по 100 Mbps свързаност с мрежата на БАН през MAN, осигурен от участника (доставчика), чрез VLAN технология \n",
      "Classification code 72411000 and scheme CPV\n",
      "\n",
      "**************************************************\n",
      "File id: 2003673, Language: fr\n",
      "Title: Marché de travaux pour la réhabilitation d'un local commercial en Maison Médicale - 85 avenue Paul Santy - 69008 LYON POUR LE LOT N°06 : MENUISERIES INTERIEURES EXCLUSIVEMENT\n",
      "Description (up to 500 chars): Marché de travaux pour la réhabilitation d'un local commercial en Maison Médicale - 85 avenue Paul Santy - 69008 LYON POUR LE LOT N°06 : MENUISERIES INTERIEURES EXCLUSIVEMENT\n",
      "Classification code None and scheme None\n",
      "\n",
      "**************************************************\n",
      "File id: 1532032, Language: pl\n",
      "Title: Dostawa części i akcesoriów do pojazdów służbowych KWP w Opolu, Zadanie nr 16 Nissan Pathfinder\n",
      "Description (up to 500 chars): Przedmiotem zamówienia jest dostawa części zamiennych i akcesoriów do pojazdów służbowych eksploatowanych przez Komendę Wojewódzką Policji w Opolu, wskazanych w opisie przedmiotu zamówienia, stanowiącym załącznik do Specyfikacji Istotnych Warunków Zamówienia. Podane ilości asortymentu w opisie przedmiotu zamówienia, należy traktować jako wielkość przybliżoną. Ilość zamawianego asortymentu może ulec zmianie w trakcie trwania umowy, w zależności od rzeczywistych potrzeb Zamawiającego, bez prawa do\n",
      "Classification code 34300000 and scheme CPV\n",
      "\n"
     ]
    }
   ],
   "source": [
    "for idx in range(0,10):\n",
    "    idx = random.randrange(0,l)\n",
    "    j = json.load(open(files[idx],'r'))\n",
    "    for release in j['releases']:\n",
    "        lang = release.get(\"language\")\n",
    "        tender = release['tender']\n",
    "        title = get_title(tender)\n",
    "        desc = get_description(tender)\n",
    "        classif,scheme = get_classification(tender)\n",
    "        print(\"**************************************************\")\n",
    "        print(f\"File id: {idx}, Language: {lang}\")\n",
    "        print(f\"Title: {title}\")\n",
    "        print(f\"Description (up to 500 chars): {desc[:500]}\")\n",
    "        print(f\"Classification code {classif} and scheme {scheme}\")\n",
    "        print()"
   ]
  },
  {
   "cell_type": "markdown",
   "id": "cf202390",
   "metadata": {},
   "source": [
    "## Store relevant data in a pandas dataframe\n",
    "\n"
   ]
  },
  {
   "cell_type": "code",
   "execution_count": 5,
   "id": "4d97d697",
   "metadata": {},
   "outputs": [],
   "source": [
    "def file_to_rows(f: str, idx: int) -> List:\n",
    "    rows = []\n",
    "    j = json.load(open(f, 'r'))\n",
    "    for release in j[\"releases\"]:\n",
    "        if release.get(\"language\") and release[\"language\"] == 'en' and release.get(\"tender\"):\n",
    "            tender = release[\"tender\"]\n",
    "            title = get_title(tender)\n",
    "            description = get_description(tender)\n",
    "            classif,scheme = get_classification(tender)\n",
    "            \n",
    "            if scheme and \"CPV\" in scheme.upper():\n",
    "                class8 = classif[:8]\n",
    "                if len(class8) < 8:\n",
    "                    print(f\"row {idx} has classification {classif} that is less than 8 chars\")\n",
    "                class6 = class8[:6] + \"00\"\n",
    "                class4 = class8[:4] + \"0000\"\n",
    "                class2 = class8[:2] + \"000000\"\n",
    "                rows.append([f,title,description,class8,class6,class4,class2])\n",
    "    return rows"
   ]
  },
  {
   "cell_type": "code",
   "execution_count": 6,
   "id": "861892f4",
   "metadata": {},
   "outputs": [
    {
     "name": "stdout",
     "output_type": "stream",
     "text": [
      "Processing file #100000\n",
      "Processing file #200000\n",
      "Processing file #300000\n",
      "Processing file #400000\n",
      "Processing file #500000\n",
      "Processing file #600000\n",
      "Processing file #700000\n",
      "Processing file #800000\n",
      "Processing file #900000\n",
      "Processing file #1000000\n",
      "Processing file #1100000\n",
      "Processing file #1200000\n",
      "Processing file #1300000\n",
      "Processing file #1400000\n",
      "Processing file #1500000\n",
      "Processing file #1600000\n",
      "Processing file #1700000\n",
      "Processing file #1800000\n",
      "Processing file #1900000\n",
      "Processing file #2000000\n",
      "Processing file #2100000\n",
      "Processing file #2200000\n",
      "Got 245884 rows\n"
     ]
    }
   ],
   "source": [
    "all_rows = []\n",
    "idx = 0\n",
    "for x in files:\n",
    "    rows = file_to_rows(x,idx)\n",
    "    all_rows.extend(rows)\n",
    "    idx += 1\n",
    "    if idx % 100_000 == 0:\n",
    "        print(f\"Processing file #{idx}\")\n",
    "    \n",
    "print(f\"Got {len(all_rows)} rows\")"
   ]
  },
  {
   "cell_type": "code",
   "execution_count": 7,
   "id": "96db202a",
   "metadata": {},
   "outputs": [
    {
     "data": {
      "text/html": [
       "<div>\n",
       "<style scoped>\n",
       "    .dataframe tbody tr th:only-of-type {\n",
       "        vertical-align: middle;\n",
       "    }\n",
       "\n",
       "    .dataframe tbody tr th {\n",
       "        vertical-align: top;\n",
       "    }\n",
       "\n",
       "    .dataframe thead th {\n",
       "        text-align: right;\n",
       "    }\n",
       "</style>\n",
       "<table border=\"1\" class=\"dataframe\">\n",
       "  <thead>\n",
       "    <tr style=\"text-align: right;\">\n",
       "      <th></th>\n",
       "      <th>filename</th>\n",
       "      <th>title</th>\n",
       "      <th>description</th>\n",
       "      <th>class8</th>\n",
       "      <th>class6</th>\n",
       "      <th>class4</th>\n",
       "      <th>class2</th>\n",
       "    </tr>\n",
       "  </thead>\n",
       "  <tbody>\n",
       "    <tr>\n",
       "      <th>0</th>\n",
       "      <td>./data/3_JSON_Enriched/2019-08-21/ocds-0c46vo-...</td>\n",
       "      <td>APMS Services for Maple Surgery, Cambridge for...</td>\n",
       "      <td>Maple Surgery is located at Hanover Close, Cam...</td>\n",
       "      <td>85120000</td>\n",
       "      <td>85120000</td>\n",
       "      <td>85120000</td>\n",
       "      <td>85000000</td>\n",
       "    </tr>\n",
       "    <tr>\n",
       "      <th>1</th>\n",
       "      <td>./data/3_JSON_Enriched/2019-08-21/ocds-0c46vo-...</td>\n",
       "      <td>Provision of Compliance Auditing Services</td>\n",
       "      <td>Dublin Bus is seeking submissions from suitabl...</td>\n",
       "      <td>79212000</td>\n",
       "      <td>79212000</td>\n",
       "      <td>79210000</td>\n",
       "      <td>79000000</td>\n",
       "    </tr>\n",
       "    <tr>\n",
       "      <th>2</th>\n",
       "      <td>./data/3_JSON_Enriched/2019-08-21/ocds-0c46vo-...</td>\n",
       "      <td>DBC (SF) Pilot of Robotic Process Automation</td>\n",
       "      <td>Dacorum Borough Council requires support from ...</td>\n",
       "      <td>72222000</td>\n",
       "      <td>72222000</td>\n",
       "      <td>72220000</td>\n",
       "      <td>72000000</td>\n",
       "    </tr>\n",
       "    <tr>\n",
       "      <th>3</th>\n",
       "      <td>./data/3_JSON_Enriched/2019-08-21/ocds-0c46vo-...</td>\n",
       "      <td>Passenger Transport for 8 Passengers or Less w...</td>\n",
       "      <td>Passenger transport for 8 passengers or less w...</td>\n",
       "      <td>60000000</td>\n",
       "      <td>60000000</td>\n",
       "      <td>60000000</td>\n",
       "      <td>60000000</td>\n",
       "    </tr>\n",
       "    <tr>\n",
       "      <th>4</th>\n",
       "      <td>./data/3_JSON_Enriched/2019-08-21/ocds-0c46vo-...</td>\n",
       "      <td>Denbighshire Schools ICT Network Framework</td>\n",
       "      <td>The aims of this contract is to provide a fram...</td>\n",
       "      <td>48000000</td>\n",
       "      <td>48000000</td>\n",
       "      <td>48000000</td>\n",
       "      <td>48000000</td>\n",
       "    </tr>\n",
       "    <tr>\n",
       "      <th>...</th>\n",
       "      <td>...</td>\n",
       "      <td>...</td>\n",
       "      <td>...</td>\n",
       "      <td>...</td>\n",
       "      <td>...</td>\n",
       "      <td>...</td>\n",
       "      <td>...</td>\n",
       "    </tr>\n",
       "    <tr>\n",
       "      <th>245879</th>\n",
       "      <td>./data/3_JSON_Enriched/2019-04-23/ocds-0c46vo-...</td>\n",
       "      <td>Delivered Ready Prepared Meals</td>\n",
       "      <td>The range is for selection of standard ready p...</td>\n",
       "      <td>15894220</td>\n",
       "      <td>15894200</td>\n",
       "      <td>15890000</td>\n",
       "      <td>15000000</td>\n",
       "    </tr>\n",
       "    <tr>\n",
       "      <th>245880</th>\n",
       "      <td>./data/3_JSON_Enriched/2019-04-23/ocds-0c46vo-...</td>\n",
       "      <td>Traffic Signals Planned and Unplanned Inspecti...</td>\n",
       "      <td>Renfrewshire Council require a suitably qualif...</td>\n",
       "      <td>50232000</td>\n",
       "      <td>50232000</td>\n",
       "      <td>50230000</td>\n",
       "      <td>50000000</td>\n",
       "    </tr>\n",
       "    <tr>\n",
       "      <th>245881</th>\n",
       "      <td>./data/3_JSON_Enriched/2019-04-23/ocds-0c46vo-...</td>\n",
       "      <td>The Supply for the Development of Dudley Counc...</td>\n",
       "      <td>Dudley Council invites providers to submit a q...</td>\n",
       "      <td>73000000</td>\n",
       "      <td>73000000</td>\n",
       "      <td>73000000</td>\n",
       "      <td>73000000</td>\n",
       "    </tr>\n",
       "    <tr>\n",
       "      <th>245882</th>\n",
       "      <td>./data/3_JSON_Enriched/2019-04-23/ocds-0c46vo-...</td>\n",
       "      <td>LIFE Welsh Raised Bogs — Framework for Peat Re...</td>\n",
       "      <td>Lot 2: Removal of invasive Scrub:NRW is intend...</td>\n",
       "      <td>16600000</td>\n",
       "      <td>16600000</td>\n",
       "      <td>16600000</td>\n",
       "      <td>16000000</td>\n",
       "    </tr>\n",
       "    <tr>\n",
       "      <th>245883</th>\n",
       "      <td>./data/3_JSON_Enriched/2019-04-23/ocds-0c46vo-...</td>\n",
       "      <td>Community Based Addiction Recovery Services</td>\n",
       "      <td>Argyll and Bute Council on behalf of the Integ...</td>\n",
       "      <td>85000000</td>\n",
       "      <td>85000000</td>\n",
       "      <td>85000000</td>\n",
       "      <td>85000000</td>\n",
       "    </tr>\n",
       "  </tbody>\n",
       "</table>\n",
       "<p>245884 rows × 7 columns</p>\n",
       "</div>"
      ],
      "text/plain": [
       "                                                 filename  \\\n",
       "0       ./data/3_JSON_Enriched/2019-08-21/ocds-0c46vo-...   \n",
       "1       ./data/3_JSON_Enriched/2019-08-21/ocds-0c46vo-...   \n",
       "2       ./data/3_JSON_Enriched/2019-08-21/ocds-0c46vo-...   \n",
       "3       ./data/3_JSON_Enriched/2019-08-21/ocds-0c46vo-...   \n",
       "4       ./data/3_JSON_Enriched/2019-08-21/ocds-0c46vo-...   \n",
       "...                                                   ...   \n",
       "245879  ./data/3_JSON_Enriched/2019-04-23/ocds-0c46vo-...   \n",
       "245880  ./data/3_JSON_Enriched/2019-04-23/ocds-0c46vo-...   \n",
       "245881  ./data/3_JSON_Enriched/2019-04-23/ocds-0c46vo-...   \n",
       "245882  ./data/3_JSON_Enriched/2019-04-23/ocds-0c46vo-...   \n",
       "245883  ./data/3_JSON_Enriched/2019-04-23/ocds-0c46vo-...   \n",
       "\n",
       "                                                    title  \\\n",
       "0       APMS Services for Maple Surgery, Cambridge for...   \n",
       "1               Provision of Compliance Auditing Services   \n",
       "2            DBC (SF) Pilot of Robotic Process Automation   \n",
       "3       Passenger Transport for 8 Passengers or Less w...   \n",
       "4              Denbighshire Schools ICT Network Framework   \n",
       "...                                                   ...   \n",
       "245879                     Delivered Ready Prepared Meals   \n",
       "245880  Traffic Signals Planned and Unplanned Inspecti...   \n",
       "245881  The Supply for the Development of Dudley Counc...   \n",
       "245882  LIFE Welsh Raised Bogs — Framework for Peat Re...   \n",
       "245883        Community Based Addiction Recovery Services   \n",
       "\n",
       "                                              description    class8    class6  \\\n",
       "0       Maple Surgery is located at Hanover Close, Cam...  85120000  85120000   \n",
       "1       Dublin Bus is seeking submissions from suitabl...  79212000  79212000   \n",
       "2       Dacorum Borough Council requires support from ...  72222000  72222000   \n",
       "3       Passenger transport for 8 passengers or less w...  60000000  60000000   \n",
       "4       The aims of this contract is to provide a fram...  48000000  48000000   \n",
       "...                                                   ...       ...       ...   \n",
       "245879  The range is for selection of standard ready p...  15894220  15894200   \n",
       "245880  Renfrewshire Council require a suitably qualif...  50232000  50232000   \n",
       "245881  Dudley Council invites providers to submit a q...  73000000  73000000   \n",
       "245882  Lot 2: Removal of invasive Scrub:NRW is intend...  16600000  16600000   \n",
       "245883  Argyll and Bute Council on behalf of the Integ...  85000000  85000000   \n",
       "\n",
       "          class4    class2  \n",
       "0       85120000  85000000  \n",
       "1       79210000  79000000  \n",
       "2       72220000  72000000  \n",
       "3       60000000  60000000  \n",
       "4       48000000  48000000  \n",
       "...          ...       ...  \n",
       "245879  15890000  15000000  \n",
       "245880  50230000  50000000  \n",
       "245881  73000000  73000000  \n",
       "245882  16600000  16000000  \n",
       "245883  85000000  85000000  \n",
       "\n",
       "[245884 rows x 7 columns]"
      ]
     },
     "execution_count": 7,
     "metadata": {},
     "output_type": "execute_result"
    }
   ],
   "source": [
    "df = pd.DataFrame(columns=[\"filename\",\"title\",\"description\",\"class8\",\"class6\",\"class4\",\"class2\"],\n",
    "                  data=all_rows)\n",
    "df"
   ]
  },
  {
   "cell_type": "code",
   "execution_count": 8,
   "id": "871111c4",
   "metadata": {},
   "outputs": [
    {
     "data": {
      "text/plain": [
       "count       245884\n",
       "unique        5512\n",
       "top       45000000\n",
       "freq          9599\n",
       "Name: class8, dtype: object"
      ]
     },
     "execution_count": 8,
     "metadata": {},
     "output_type": "execute_result"
    }
   ],
   "source": [
    "df.class8.describe()"
   ]
  },
  {
   "cell_type": "code",
   "execution_count": 9,
   "id": "51f6475b",
   "metadata": {},
   "outputs": [
    {
     "name": "stdout",
     "output_type": "stream",
     "text": [
      "Most common classifications: [('45000000', 9599), ('85000000', 8787), ('85100000', 8786), ('60000000', 7677), ('85312000', 5613), ('72000000', 5003), ('80000000', 4242), ('85300000', 3727), ('48000000', 3695), ('38000000', 3198)]\n",
      "Least common classifications: [('35322400', 1), ('24311800', 1), ('77231800', 1), ('30213500', 1), ('45243400', 1), ('71631490', 1), ('48625000', 1), ('33620000', 1), ('03222320', 1)]\n"
     ]
    }
   ],
   "source": [
    "cpv_counter = Counter(df.class8)\n",
    "print(f\"Most common classifications: {cpv_counter.most_common(10)}\")\n",
    "print(f\"Least common classifications: {cpv_counter.most_common()[:-10:-1]}\")"
   ]
  },
  {
   "cell_type": "markdown",
   "id": "5a327afd",
   "metadata": {},
   "source": [
    "## Bucketize classifications\n",
    "\n",
    "Approx 5000 classifications across approx 250k examples is approx 50 examples per classification code. Most common entries are all high level CPV codes and there are many CPV codes with just 1 entry per CPV code.\n",
    "\n",
    "To give the model a better chance of being accurate, group the classifications in buckets so that there are at least N examples per classification."
   ]
  },
  {
   "cell_type": "code",
   "execution_count": 10,
   "id": "a9efbeb3",
   "metadata": {},
   "outputs": [],
   "source": [
    "def bucketize(df: pd.DataFrame, minv: int = 100):\n",
    "    '''\n",
    "        Really not very proud of this function but it does the job\n",
    "    '''\n",
    "    c8 = Counter(df[\"class8\"])\n",
    "    c6 = Counter(df[\"class6\"])\n",
    "    c4 = Counter(df[\"class4\"])\n",
    "    c2 = Counter(df[\"class2\"])\n",
    "\n",
    "    cpv_mapping = {}\n",
    "    for k,v in c8.items():\n",
    "        if v > minv:\n",
    "            cpv_mapping[k] = k\n",
    "        else:\n",
    "            cpv_6 = k[:6] + \"00\"\n",
    "            v6 = c6[cpv_6]\n",
    "            if v6 > minv:\n",
    "                cpv_mapping[k] = cpv_6\n",
    "            else:\n",
    "                cpv_4 = k[:4] + \"0000\"\n",
    "                v4 = c4[cpv_4]\n",
    "                if v4 > minv:\n",
    "                    cpv_mapping[k] = cpv_4\n",
    "                else:\n",
    "                    cpv_mapping[k] = k[:2] + \"000000\"\n",
    "    return cpv_mapping"
   ]
  },
  {
   "cell_type": "code",
   "execution_count": 11,
   "id": "d935945c",
   "metadata": {},
   "outputs": [],
   "source": [
    "cpv_mapping = bucketize(df,300)"
   ]
  },
  {
   "cell_type": "code",
   "execution_count": 12,
   "id": "450931e1",
   "metadata": {},
   "outputs": [
    {
     "name": "stdout",
     "output_type": "stream",
     "text": [
      "Number of classifications after bucketizing: 225\n"
     ]
    }
   ],
   "source": [
    "print(f\"Number of classifications after bucketizing: {len(set(cpv_mapping.values()))}\")"
   ]
  },
  {
   "cell_type": "code",
   "execution_count": 13,
   "id": "e40b7276",
   "metadata": {},
   "outputs": [
    {
     "data": {
      "text/plain": [
       "count       245884\n",
       "unique         225\n",
       "top       45000000\n",
       "freq         10596\n",
       "Name: mapped_cpv, dtype: object"
      ]
     },
     "execution_count": 13,
     "metadata": {},
     "output_type": "execute_result"
    }
   ],
   "source": [
    "df['mapped_cpv'] = df.apply(lambda x: cpv_mapping[x['class8']],axis=1)\n",
    "df.mapped_cpv.describe()"
   ]
  },
  {
   "cell_type": "code",
   "execution_count": 14,
   "id": "156c2d2d",
   "metadata": {},
   "outputs": [
    {
     "name": "stdout",
     "output_type": "stream",
     "text": [
      "Most common classifications: [('45000000', 10596), ('85000000', 9217), ('60000000', 8866), ('85100000', 8786), ('72000000', 6820), ('48000000', 6676), ('80000000', 6401), ('50000000', 5990), ('85312000', 5613), ('38000000', 5411)]\n",
      "Least common classifications: [('11000000', 1), ('01000000', 1), ('40000000', 1), ('93000000', 1), ('78000000', 1), ('21000000', 1), ('23000000', 1), ('95000000', 1), ('20000000', 2)]\n"
     ]
    }
   ],
   "source": [
    "mapped_cpv_counter = Counter(df.mapped_cpv)\n",
    "print(f\"Most common classifications: {mapped_cpv_counter.most_common(10)}\")\n",
    "print(f\"Least common classifications: {mapped_cpv_counter.most_common()[:-10:-1]}\")"
   ]
  },
  {
   "cell_type": "markdown",
   "id": "d8ba99f3",
   "metadata": {},
   "source": [
    "There are still some 'least common' classifications with 1 or 2 entries, but these are already top-level CPV classifications so the bucketize function wouldn't group them further"
   ]
  },
  {
   "cell_type": "markdown",
   "id": "09c67482",
   "metadata": {},
   "source": [
    "## Prepare data for training\n",
    "\n",
    "create series for text and series for classifications.\n",
    "\n",
    "Due to the large disparities in text size, will only use title plus first sentence of each tender."
   ]
  },
  {
   "cell_type": "code",
   "execution_count": 15,
   "id": "f1c522a0",
   "metadata": {},
   "outputs": [],
   "source": [
    "df['sent1'] = df.apply(lambda x: nltk.sent_tokenize(x.description)[0], axis=1)"
   ]
  },
  {
   "cell_type": "code",
   "execution_count": 16,
   "id": "0a3c548e",
   "metadata": {},
   "outputs": [
    {
     "data": {
      "text/html": [
       "<div>\n",
       "<style scoped>\n",
       "    .dataframe tbody tr th:only-of-type {\n",
       "        vertical-align: middle;\n",
       "    }\n",
       "\n",
       "    .dataframe tbody tr th {\n",
       "        vertical-align: top;\n",
       "    }\n",
       "\n",
       "    .dataframe thead th {\n",
       "        text-align: right;\n",
       "    }\n",
       "</style>\n",
       "<table border=\"1\" class=\"dataframe\">\n",
       "  <thead>\n",
       "    <tr style=\"text-align: right;\">\n",
       "      <th></th>\n",
       "      <th>title</th>\n",
       "      <th>mapped_cpv</th>\n",
       "      <th>sent1</th>\n",
       "    </tr>\n",
       "  </thead>\n",
       "  <tbody>\n",
       "    <tr>\n",
       "      <th>0</th>\n",
       "      <td>APMS Services for Maple Surgery, Cambridge for...</td>\n",
       "      <td>85120000</td>\n",
       "      <td>Maple Surgery is located at Hanover Close, Cam...</td>\n",
       "    </tr>\n",
       "    <tr>\n",
       "      <th>1</th>\n",
       "      <td>Provision of Compliance Auditing Services</td>\n",
       "      <td>79212000</td>\n",
       "      <td>Dublin Bus is seeking submissions from suitabl...</td>\n",
       "    </tr>\n",
       "    <tr>\n",
       "      <th>2</th>\n",
       "      <td>DBC (SF) Pilot of Robotic Process Automation</td>\n",
       "      <td>72220000</td>\n",
       "      <td>Dacorum Borough Council requires support from ...</td>\n",
       "    </tr>\n",
       "    <tr>\n",
       "      <th>3</th>\n",
       "      <td>Passenger Transport for 8 Passengers or Less w...</td>\n",
       "      <td>60000000</td>\n",
       "      <td>Passenger transport for 8 passengers or less w...</td>\n",
       "    </tr>\n",
       "    <tr>\n",
       "      <th>4</th>\n",
       "      <td>Denbighshire Schools ICT Network Framework</td>\n",
       "      <td>48000000</td>\n",
       "      <td>The aims of this contract is to provide a fram...</td>\n",
       "    </tr>\n",
       "    <tr>\n",
       "      <th>...</th>\n",
       "      <td>...</td>\n",
       "      <td>...</td>\n",
       "      <td>...</td>\n",
       "    </tr>\n",
       "    <tr>\n",
       "      <th>245879</th>\n",
       "      <td>Delivered Ready Prepared Meals</td>\n",
       "      <td>15890000</td>\n",
       "      <td>The range is for selection of standard ready p...</td>\n",
       "    </tr>\n",
       "    <tr>\n",
       "      <th>245880</th>\n",
       "      <td>Traffic Signals Planned and Unplanned Inspecti...</td>\n",
       "      <td>50230000</td>\n",
       "      <td>Renfrewshire Council require a suitably qualif...</td>\n",
       "    </tr>\n",
       "    <tr>\n",
       "      <th>245881</th>\n",
       "      <td>The Supply for the Development of Dudley Counc...</td>\n",
       "      <td>73000000</td>\n",
       "      <td>Dudley Council invites providers to submit a q...</td>\n",
       "    </tr>\n",
       "    <tr>\n",
       "      <th>245882</th>\n",
       "      <td>LIFE Welsh Raised Bogs — Framework for Peat Re...</td>\n",
       "      <td>16000000</td>\n",
       "      <td>Lot 2: Removal of invasive Scrub:NRW is intend...</td>\n",
       "    </tr>\n",
       "    <tr>\n",
       "      <th>245883</th>\n",
       "      <td>Community Based Addiction Recovery Services</td>\n",
       "      <td>85000000</td>\n",
       "      <td>Argyll and Bute Council on behalf of the Integ...</td>\n",
       "    </tr>\n",
       "  </tbody>\n",
       "</table>\n",
       "<p>245884 rows × 3 columns</p>\n",
       "</div>"
      ],
      "text/plain": [
       "                                                    title mapped_cpv  \\\n",
       "0       APMS Services for Maple Surgery, Cambridge for...   85120000   \n",
       "1               Provision of Compliance Auditing Services   79212000   \n",
       "2            DBC (SF) Pilot of Robotic Process Automation   72220000   \n",
       "3       Passenger Transport for 8 Passengers or Less w...   60000000   \n",
       "4              Denbighshire Schools ICT Network Framework   48000000   \n",
       "...                                                   ...        ...   \n",
       "245879                     Delivered Ready Prepared Meals   15890000   \n",
       "245880  Traffic Signals Planned and Unplanned Inspecti...   50230000   \n",
       "245881  The Supply for the Development of Dudley Counc...   73000000   \n",
       "245882  LIFE Welsh Raised Bogs — Framework for Peat Re...   16000000   \n",
       "245883        Community Based Addiction Recovery Services   85000000   \n",
       "\n",
       "                                                    sent1  \n",
       "0       Maple Surgery is located at Hanover Close, Cam...  \n",
       "1       Dublin Bus is seeking submissions from suitabl...  \n",
       "2       Dacorum Borough Council requires support from ...  \n",
       "3       Passenger transport for 8 passengers or less w...  \n",
       "4       The aims of this contract is to provide a fram...  \n",
       "...                                                   ...  \n",
       "245879  The range is for selection of standard ready p...  \n",
       "245880  Renfrewshire Council require a suitably qualif...  \n",
       "245881  Dudley Council invites providers to submit a q...  \n",
       "245882  Lot 2: Removal of invasive Scrub:NRW is intend...  \n",
       "245883  Argyll and Bute Council on behalf of the Integ...  \n",
       "\n",
       "[245884 rows x 3 columns]"
      ]
     },
     "execution_count": 16,
     "metadata": {},
     "output_type": "execute_result"
    }
   ],
   "source": [
    "df_for_training = df.drop(columns=['filename','description','class8','class6','class4','class2'])\n",
    "df_for_training"
   ]
  },
  {
   "cell_type": "code",
   "execution_count": 17,
   "id": "3490308b",
   "metadata": {},
   "outputs": [],
   "source": [
    "df_for_training.to_json(\"data/training_data.json\")"
   ]
  }
 ],
 "metadata": {
  "kernelspec": {
   "display_name": "Python 3 (ipykernel)",
   "language": "python",
   "name": "python3"
  },
  "language_info": {
   "codemirror_mode": {
    "name": "ipython",
    "version": 3
   },
   "file_extension": ".py",
   "mimetype": "text/x-python",
   "name": "python",
   "nbconvert_exporter": "python",
   "pygments_lexer": "ipython3",
   "version": "3.8.12"
  }
 },
 "nbformat": 4,
 "nbformat_minor": 5
}
