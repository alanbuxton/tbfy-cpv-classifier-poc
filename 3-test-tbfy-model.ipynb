{
 "cells": [
  {
   "cell_type": "markdown",
   "id": "af7b7e29",
   "metadata": {},
   "source": [
    "# CPV Classifier POC\n",
    "\n",
    "## 3 - Test Model\n",
    "\n",
    "Simple transformer-based classifier proof of concept based on data from TheyBuyForYou.\n",
    "\n",
    "See https://theybuyforyou.eu/ for background on TheyBuyForYou and http://data.tbfy.eu/ for information on the Knowledge Graph (KG) data that was created as part of this project. Data from the knowledge graph used in this proof of concept is made available under the following license terms and therefore the same license applies to the code and data in this repository.\n",
    "\n",
    "> The KG data is provided under the Creative Commons BY-NC-SA 4.0 License, which allows you to use, share and adapt the data for non-commercial uses as long as you give appropriate credit and share any adapted data under the same license as the original. If you wish to use the data for commercial uses please contact the TheyBuyForYou project.\n"
   ]
  },
  {
   "cell_type": "markdown",
   "id": "835f4066",
   "metadata": {},
   "source": [
    "## Load CPV list\n",
    "\n",
    "originally downloaded from  https://simap.ted.europa.eu/cpv"
   ]
  },
  {
   "cell_type": "code",
   "execution_count": 1,
   "id": "92f3ed0e",
   "metadata": {},
   "outputs": [
    {
     "data": {
      "text/plain": [
       "'Agricultural, farming, fishing, forestry and related products'"
      ]
     },
     "execution_count": 1,
     "metadata": {},
     "output_type": "execute_result"
    }
   ],
   "source": [
    "import csv\n",
    "\n",
    "cpv_list = {}\n",
    "\n",
    "with open(\"data/cpv_listing.tsv\") as csvfile:\n",
    "    cpvreader = csv.reader(csvfile,delimiter=\"\\t\")\n",
    "    for row in cpvreader:\n",
    "        code = row[0][:8]\n",
    "        desc = row[1]\n",
    "        cpv_list[code] = desc\n",
    "        \n",
    "# an example CPV\n",
    "cpv_list['03000000']"
   ]
  },
  {
   "cell_type": "markdown",
   "id": "e289609f",
   "metadata": {},
   "source": [
    "## Load model"
   ]
  },
  {
   "cell_type": "code",
   "execution_count": 2,
   "id": "5d7692e7",
   "metadata": {},
   "outputs": [],
   "source": [
    "from transformers import DistilBertForSequenceClassification, DistilBertTokenizerFast, TextClassificationPipeline"
   ]
  },
  {
   "cell_type": "code",
   "execution_count": 3,
   "id": "83bb4bd0",
   "metadata": {
    "scrolled": false
   },
   "outputs": [],
   "source": [
    "tokenizer = DistilBertTokenizerFast.from_pretrained('distilbert-base-uncased')\n",
    "model = DistilBertForSequenceClassification.from_pretrained('tbfy_cpv_model')\n",
    "pipe = TextClassificationPipeline(model=model,tokenizer=tokenizer)"
   ]
  },
  {
   "cell_type": "code",
   "execution_count": 4,
   "id": "60945f20",
   "metadata": {},
   "outputs": [],
   "source": [
    "def classify(text):\n",
    "    res = pipe(text)\n",
    "    cpv = cpv_list[res[0]['label']]\n",
    "    print(f\"'{text}' => {cpv} (score = {res[0]['score']})\")"
   ]
  },
  {
   "cell_type": "markdown",
   "id": "691a4fa5",
   "metadata": {},
   "source": [
    "## Test on some examples"
   ]
  },
  {
   "cell_type": "code",
   "execution_count": 5,
   "id": "b3f983ea",
   "metadata": {},
   "outputs": [
    {
     "name": "stdout",
     "output_type": "stream",
     "text": [
      "'mobile app' => Software package and information systems (score = 0.9995172023773193)\n"
     ]
    }
   ],
   "source": [
    "classify(\"mobile app\")"
   ]
  },
  {
   "cell_type": "code",
   "execution_count": 6,
   "id": "005556c2",
   "metadata": {},
   "outputs": [
    {
     "name": "stdout",
     "output_type": "stream",
     "text": [
      "'mobile phone' => Radio, television, communication, telecommunication and related equipment (score = 0.9999891519546509)\n"
     ]
    }
   ],
   "source": [
    "classify(\"mobile phone\")"
   ]
  },
  {
   "cell_type": "code",
   "execution_count": 7,
   "id": "6803770f",
   "metadata": {},
   "outputs": [
    {
     "name": "stdout",
     "output_type": "stream",
     "text": [
      "'mobile billboard' => Advertising and marketing services (score = 0.5554304122924805)\n"
     ]
    }
   ],
   "source": [
    "classify(\"mobile billboard\")"
   ]
  },
  {
   "cell_type": "code",
   "execution_count": 8,
   "id": "d6bd473c",
   "metadata": {},
   "outputs": [
    {
     "name": "stdout",
     "output_type": "stream",
     "text": [
      "'mobile office' => Construction work (score = 0.9570050835609436)\n"
     ]
    }
   ],
   "source": [
    "classify(\"mobile office\")"
   ]
  }
 ],
 "metadata": {
  "kernelspec": {
   "display_name": "Python 3 (ipykernel)",
   "language": "python",
   "name": "python3"
  },
  "language_info": {
   "codemirror_mode": {
    "name": "ipython",
    "version": 3
   },
   "file_extension": ".py",
   "mimetype": "text/x-python",
   "name": "python",
   "nbconvert_exporter": "python",
   "pygments_lexer": "ipython3",
   "version": "3.8.10"
  }
 },
 "nbformat": 4,
 "nbformat_minor": 5
}
