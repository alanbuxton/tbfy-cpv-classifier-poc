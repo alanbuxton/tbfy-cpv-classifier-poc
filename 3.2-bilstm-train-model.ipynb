{
 "cells": [
  {
   "cell_type": "markdown",
   "id": "d3489a07",
   "metadata": {},
   "source": [
    "## CPV Classifier POC\n",
    "\n",
    "## 3.2 - Train Bi-LSTM\n",
    "\n",
    "Uses a Bidirectional LSTM from Keras (see https://keras.io/examples/nlp/bidirectional_lstm_imdb/, also https://huggingface.co/spaces/keras-io/bidirectional_lstm_imdb)\n",
    "\n",
    "See https://theybuyforyou.eu/ for background on TheyBuyForYou and http://data.tbfy.eu/ for information on the Knowledge Graph (KG) data that was created as part of this project. Data from the knowledge graph used in this proof of concept is made available under the following license terms and therefore the same license applies to the code and data in this repository.\n",
    "\n",
    "> The KG data is provided under the Creative Commons BY-NC-SA 4.0 License, which allows you to use, share and adapt the data for non-commercial uses as long as you give appropriate credit and share any adapted data under the same license as the original. If you wish to use the data for commercial uses please contact the TheyBuyForYou project.\n",
    "\n",
    "The full CPV listing included in this repo was downloaded from https://simap.ted.europa.eu/cpv"
   ]
  },
  {
   "cell_type": "code",
   "execution_count": 1,
   "id": "0f1dcb4d",
   "metadata": {},
   "outputs": [],
   "source": [
    "import pandas as pd\n",
    "import shelve"
   ]
  },
  {
   "cell_type": "markdown",
   "id": "7c7618ba",
   "metadata": {},
   "source": [
    "## Load data\n",
    "\n",
    "Also convert text to lowercase so it's a fair comparison to the uncased model used in the transformers version"
   ]
  },
  {
   "cell_type": "code",
   "execution_count": 2,
   "id": "f3e67c3b",
   "metadata": {},
   "outputs": [],
   "source": [
    "with shelve.open(\"data/train_val.shelf\") as db:\n",
    "    sents_train = db[\"sents_train\"]\n",
    "    sents_val = db[\"sents_val\"]\n",
    "    cpv_train = db[\"cpv_train\"]\n",
    "    cpv_val = db[\"cpv_val\"]\n",
    "    label2id = db[\"label2id\"]\n",
    "    id2label = db[\"id2label\"]"
   ]
  },
  {
   "cell_type": "code",
   "execution_count": 3,
   "id": "e4748d33",
   "metadata": {},
   "outputs": [],
   "source": [
    "sents_train = [x.lower() for x in sents_train]\n",
    "sents_val = [x.lower() for x in sents_val]"
   ]
  },
  {
   "cell_type": "markdown",
   "id": "83bfd4ff",
   "metadata": {},
   "source": [
    "## Prepare & Train model"
   ]
  },
  {
   "cell_type": "code",
   "execution_count": 4,
   "id": "0a09fe0b",
   "metadata": {},
   "outputs": [
   ],
   "source": [
    "import numpy as np\n",
    "from tensorflow import keras\n",
    "from tensorflow.keras import layers\n",
    "from tensorflow.keras.preprocessing.text import Tokenizer\n",
    "from tensorflow.keras.preprocessing.sequence import pad_sequences\n",
    "\n",
    "max_features = 20000  # Only consider the top 20k words\n",
    "maxlen = 500  # Only consider the first 200 words of each item"
   ]
  },
  {
   "cell_type": "code",
   "execution_count": 5,
   "id": "52713a3a",
   "metadata": {},
   "outputs": [
    {
     "name": "stdout",
     "output_type": "stream",
     "text": [
      "Model: \"model\"\n",
      "_________________________________________________________________\n",
      "Layer (type)                 Output Shape              Param #   \n",
      "=================================================================\n",
      "input_1 (InputLayer)         [(None, None)]            0         \n",
      "_________________________________________________________________\n",
      "embedding (Embedding)        (None, None, 300)         6000000   \n",
      "_________________________________________________________________\n",
      "bidirectional (Bidirectional (None, None, 128)         186880    \n",
      "_________________________________________________________________\n",
      "bidirectional_1 (Bidirection (None, 128)               98816     \n",
      "_________________________________________________________________\n",
      "dense (Dense)                (None, 225)               29025     \n",
      "=================================================================\n",
      "Total params: 6,314,721\n",
      "Trainable params: 6,314,721\n",
      "Non-trainable params: 0\n",
      "_________________________________________________________________\n"
     ]
    }
   ],
   "source": [
    "# Input for variable-length sequences of integers\n",
    "inputs = keras.Input(shape=(None,), dtype=\"int32\")\n",
    "# Embed each integer in a 128-dimensional vector\n",
    "x = layers.Embedding(max_features, 300)(inputs)\n",
    "# Add 2 bidirectional LSTMs\n",
    "x = layers.Bidirectional(layers.LSTM(64, return_sequences=True))(x)\n",
    "x = layers.Bidirectional(layers.LSTM(64))(x)\n",
    "# Add a classifier\n",
    "outputs = layers.Dense(len(label2id), activation=\"softmax\")(x)\n",
    "model = keras.Model(inputs, outputs)\n",
    "model.summary()\n"
   ]
  },
  {
   "cell_type": "code",
   "execution_count": 6,
   "id": "401e87f9",
   "metadata": {},
   "outputs": [],
   "source": [
    "tokenizer = Tokenizer(num_words=max_features)\n",
    "tokenizer.fit_on_texts(sents_train)"
   ]
  },
  {
   "cell_type": "code",
   "execution_count": 7,
   "id": "e44fb084",
   "metadata": {},
   "outputs": [],
   "source": [
    "x_train = tokenizer.texts_to_sequences(sents_train)\n",
    "x_val = tokenizer.texts_to_sequences(sents_val)\n",
    "x_train = pad_sequences(x_train, maxlen=maxlen)\n",
    "x_val = pad_sequences(x_val, maxlen=maxlen)"
   ]
  },
  {
   "cell_type": "code",
   "execution_count": 8,
   "id": "6ef1204c",
   "metadata": {},
   "outputs": [],
   "source": [
    "num_classes=len(label2id)\n",
    "\n",
    "y_train = keras.utils.to_categorical(cpv_train,num_classes=num_classes)\n",
    "y_val = keras.utils.to_categorical(cpv_val,num_classes=num_classes)\n"
   ]
  },
  {
   "cell_type": "markdown",
   "id": "4d8d1076",
   "metadata": {},
   "source": [
    "## Train and Evaluate"
   ]
  },
  {
   "cell_type": "code",
   "execution_count": 9,
   "id": "279d3348",
   "metadata": {},
   "outputs": [
    {
     "name": "stdout",
     "output_type": "stream",
     "text": [
      "Epoch 1/15\n"
     ]
    },
    {
     "name": "stdout",
     "output_type": "stream",
     "text": [
      "6916/6916 [==============================] - 504s 72ms/step - loss: 2.8976 - accuracy: 0.3461 - val_loss: 2.1721 - val_accuracy: 0.4613\n",
      "Epoch 2/15\n",
      "6916/6916 [==============================] - 499s 72ms/step - loss: 1.8749 - accuracy: 0.5224 - val_loss: 1.7838 - val_accuracy: 0.5469\n",
      "Epoch 3/15\n",
      "6916/6916 [==============================] - 493s 71ms/step - loss: 1.4817 - accuracy: 0.6125 - val_loss: 1.6142 - val_accuracy: 0.5918\n",
      "Epoch 4/15\n",
      "6916/6916 [==============================] - 488s 71ms/step - loss: 1.1959 - accuracy: 0.6841 - val_loss: 1.5325 - val_accuracy: 0.6242\n",
      "Epoch 5/15\n",
      "6916/6916 [==============================] - 494s 71ms/step - loss: 0.9585 - accuracy: 0.7459 - val_loss: 1.4716 - val_accuracy: 0.6489\n",
      "Epoch 6/15\n",
      "6916/6916 [==============================] - 493s 71ms/step - loss: 0.7632 - accuracy: 0.7978 - val_loss: 1.4519 - val_accuracy: 0.6704\n",
      "Epoch 7/15\n",
      "6916/6916 [==============================] - 490s 71ms/step - loss: 0.6069 - accuracy: 0.8384 - val_loss: 1.4554 - val_accuracy: 0.6893\n",
      "Epoch 8/15\n",
      "6916/6916 [==============================] - 489s 71ms/step - loss: 0.4847 - accuracy: 0.8710 - val_loss: 1.5129 - val_accuracy: 0.6945\n",
      "Epoch 9/15\n",
      "6916/6916 [==============================] - 488s 71ms/step - loss: 0.3934 - accuracy: 0.8947 - val_loss: 1.5577 - val_accuracy: 0.7029\n",
      "Epoch 10/15\n",
      "6916/6916 [==============================] - 488s 71ms/step - loss: 0.3247 - accuracy: 0.9121 - val_loss: 1.6081 - val_accuracy: 0.7051\n",
      "Epoch 11/15\n",
      "6916/6916 [==============================] - 488s 71ms/step - loss: 0.2735 - accuracy: 0.9261 - val_loss: 1.6595 - val_accuracy: 0.7090\n",
      "Epoch 12/15\n",
      "6916/6916 [==============================] - 490s 71ms/step - loss: 0.2338 - accuracy: 0.9360 - val_loss: 1.7011 - val_accuracy: 0.7119\n",
      "Epoch 13/15\n",
      "6916/6916 [==============================] - 488s 71ms/step - loss: 0.2050 - accuracy: 0.9437 - val_loss: 1.7606 - val_accuracy: 0.7126\n",
      "Epoch 14/15\n",
      "6916/6916 [==============================] - 489s 71ms/step - loss: 0.1818 - accuracy: 0.9496 - val_loss: 1.8050 - val_accuracy: 0.7132\n",
      "Epoch 15/15\n",
      "6916/6916 [==============================] - 488s 71ms/step - loss: 0.1642 - accuracy: 0.9542 - val_loss: 1.8513 - val_accuracy: 0.7137\n",
      "Completed in 2:02:48.193593\n"
     ]
    }
   ],
   "source": [
    "from datetime import datetime\n",
    "\n",
    "model.compile(\"adam\", \"categorical_crossentropy\", metrics=[\"accuracy\"])\n",
    "\n",
    "start = datetime.now()\n",
    "model.fit(x_train, y_train, batch_size=32, epochs=15, validation_data=(x_val, y_val))\n",
    "finish = datetime.now()\n",
    "\n",
    "print(f\"Completed in {finish - start}\")"
   ]
  },
  {
   "cell_type": "markdown",
   "id": "bfb07617",
   "metadata": {},
   "source": [
    "## Save model and tokenizer"
   ]
  },
  {
   "cell_type": "code",
   "execution_count": 10,
   "id": "de3e2116",
   "metadata": {},
   "outputs": [
    {
     "name": "stdout",
     "output_type": "stream",
     "text": [
      "INFO:tensorflow:Assets written to: models/bilstm/assets\n"
     ]
    },
    {
     "name": "stderr",
     "output_type": "stream",
     "text": [
      "INFO:tensorflow:Assets written to: models/bilstm/assets\n"
     ]
    }
   ],
   "source": [
    "import pickle\n",
    "model.save(\"models/bilstm\")\n",
    "with open(\"models/bilstm/tokenizer.pickle\",\"wb\") as f: pickle.dump(tokenizer,f)"
   ]
  },
  {
   "cell_type": "code",
   "execution_count": null,
   "id": "1368ef64",
   "metadata": {},
   "outputs": [],
   "source": []
  }
 ],
 "metadata": {
  "kernelspec": {
   "display_name": "Python 3 (ipykernel)",
   "language": "python",
   "name": "python3"
  },
  "language_info": {
   "codemirror_mode": {
    "name": "ipython",
    "version": 3
   },
   "file_extension": ".py",
   "mimetype": "text/x-python",
   "name": "python",
   "nbconvert_exporter": "python",
   "pygments_lexer": "ipython3",
   "version": "3.8.12"
  }
 },
 "nbformat": 4,
 "nbformat_minor": 5
}
