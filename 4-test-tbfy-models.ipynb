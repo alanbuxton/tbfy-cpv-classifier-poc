{
 "cells": [
  {
   "cell_type": "markdown",
   "id": "af7b7e29",
   "metadata": {},
   "source": [
    "# CPV Classifier POC\n",
    "\n",
    "## 4 - Test Models\n",
    "\n",
    "Compare LinearSVC/Bi-LSTM/Transformer models\n",
    "\n",
    "See https://theybuyforyou.eu/ for background on TheyBuyForYou and http://data.tbfy.eu/ for information on the Knowledge Graph (KG) data that was created as part of this project. Data from the knowledge graph used in this proof of concept is made available under the following license terms and therefore the same license applies to the code and data in this repository.\n",
    "\n",
    "> The KG data is provided under the Creative Commons BY-NC-SA 4.0 License, which allows you to use, share and adapt the data for non-commercial uses as long as you give appropriate credit and share any adapted data under the same license as the original. If you wish to use the data for commercial uses please contact the TheyBuyForYou project.\n"
   ]
  },
  {
   "cell_type": "markdown",
   "id": "835f4066",
   "metadata": {},
   "source": [
    "## Load CPV list\n",
    "\n",
    "originally downloaded from  https://simap.ted.europa.eu/cpv"
   ]
  },
  {
   "cell_type": "code",
   "execution_count": 1,
   "id": "92f3ed0e",
   "metadata": {},
   "outputs": [
    {
     "data": {
      "text/plain": [
       "'Agricultural, farming, fishing, forestry and related products'"
      ]
     },
     "execution_count": 1,
     "metadata": {},
     "output_type": "execute_result"
    }
   ],
   "source": [
    "import csv\n",
    "\n",
    "cpv_list = {}\n",
    "\n",
    "with open(\"data/cpv_listing.tsv\") as csvfile:\n",
    "    cpvreader = csv.reader(csvfile,delimiter=\"\\t\")\n",
    "    for row in cpvreader:\n",
    "        code = row[0][:8]\n",
    "        desc = row[1]\n",
    "        cpv_list[code] = desc\n",
    "        \n",
    "# an example CPV\n",
    "cpv_list['03000000']"
   ]
  },
  {
   "cell_type": "code",
   "execution_count": 2,
   "id": "64ab6dd5",
   "metadata": {},
   "outputs": [],
   "source": [
    "import shelve\n",
    "\n",
    "with shelve.open(\"data/train_val.shelf\") as db:\n",
    "    id2label = db[\"id2label\"]"
   ]
  },
  {
   "cell_type": "markdown",
   "id": "e289609f",
   "metadata": {},
   "source": [
    "## Load transformers model"
   ]
  },
  {
   "cell_type": "code",
   "execution_count": 3,
   "id": "5d7692e7",
   "metadata": {},
   "outputs": [
   ],
   "source": [
    "from transformers import DistilBertForSequenceClassification, DistilBertTokenizerFast, TextClassificationPipeline"
   ]
  },
  {
   "cell_type": "code",
   "execution_count": 4,
   "id": "83bb4bd0",
   "metadata": {
    "scrolled": false
   },
   "outputs": [],
   "source": [
    "tokenizer = DistilBertTokenizerFast.from_pretrained('distilbert-base-uncased')\n",
    "model = DistilBertForSequenceClassification.from_pretrained('models/transformers')\n",
    "pipe = TextClassificationPipeline(model=model,tokenizer=tokenizer)"
   ]
  },
  {
   "cell_type": "code",
   "execution_count": 5,
   "id": "60945f20",
   "metadata": {},
   "outputs": [],
   "source": [
    "def transformer_classify(text):\n",
    "    res = pipe(text)\n",
    "    cpv_code = res[0]['label']\n",
    "    cpv = cpv_list[cpv_code]\n",
    "    return f\"{cpv_code} - {cpv[:60]} (score {res[0]['score']})\""
   ]
  },
  {
   "cell_type": "markdown",
   "id": "ea7f7f5e",
   "metadata": {},
   "source": [
    "## Load SVC model"
   ]
  },
  {
   "cell_type": "code",
   "execution_count": 6,
   "id": "bd139104",
   "metadata": {},
   "outputs": [],
   "source": [
    "import pickle\n",
    "\n",
    "with open(\"models/svc/tfidf.pickle\",\"rb\") as f: tfidf = pickle.load(f)\n",
    "with open(\"models/svc/svc.pickle\",\"rb\") as f: svc = pickle.load(f)"
   ]
  },
  {
   "cell_type": "code",
   "execution_count": 7,
   "id": "21fc014c",
   "metadata": {},
   "outputs": [],
   "source": [
    "def softmax(x):\n",
    "    f_x = np.exp(x) / np.sum(np.exp(x))\n",
    "    return f_x"
   ]
  },
  {
   "cell_type": "code",
   "execution_count": 8,
   "id": "8f8d12a4",
   "metadata": {},
   "outputs": [],
   "source": [
    "def svc_classify(text):\n",
    "    vals = tfidf.transform([text.lower()])\n",
    "    preds = svc.decision_function(vals)[0]\n",
    "    scores = softmax(preds)\n",
    "    cpvid = np.argmax(scores)\n",
    "    score = scores[cpvid]\n",
    "    cpv_code = id2label[cpvid]\n",
    "    cpv = cpv_list[cpv_code]\n",
    "    return f\"{cpv_code} - {cpv[:60]} (score {score})\""
   ]
  },
  {
   "cell_type": "markdown",
   "id": "5de9c359",
   "metadata": {},
   "source": [
    "## Load Bi-LSTM model"
   ]
  },
  {
   "cell_type": "code",
   "execution_count": 9,
   "id": "1f112597",
   "metadata": {},
   "outputs": [
   ],
   "source": [
    "from tensorflow import keras\n",
    "with open(\"models/bilstm/tokenizer.pickle\",\"rb\") as f: tokenizer = pickle.load(f)\n",
    "model = keras.models.load_model(\"models/bilstm\")"
   ]
  },
  {
   "cell_type": "code",
   "execution_count": 10,
   "id": "59ef5100",
   "metadata": {},
   "outputs": [],
   "source": [
    "from tensorflow.keras.preprocessing.sequence import pad_sequences\n",
    "import numpy as np\n",
    "\n",
    "def keras_classify(text):\n",
    "    toks = tokenizer.texts_to_sequences([text.lower()])\n",
    "    padded_tokens = pad_sequences(toks,maxlen=500)\n",
    "    result = model.predict(padded_tokens)[0]\n",
    "    cpvid = np.argmax(result)\n",
    "    score = result[cpvid]\n",
    "    cpv_code = id2label[cpvid]\n",
    "    cpv = cpv_list[cpv_code]\n",
    "    return f\"{cpv_code} - {cpv[:60]} (score {score})\""
   ]
  },
  {
   "cell_type": "markdown",
   "id": "691a4fa5",
   "metadata": {},
   "source": [
    "## Test on some examples"
   ]
  },
  {
   "cell_type": "code",
   "execution_count": 11,
   "id": "937de3b3",
   "metadata": {},
   "outputs": [],
   "source": [
    "def classify(text):\n",
    "    print(f\"Text:        {text}\")\n",
    "    print(f\"LinearSVC:   {svc_classify(text)}\")\n",
    "    print(f\"Bi-LSTM:     {keras_classify(text)}\")\n",
    "    print(f\"Transformer: {transformer_classify(text)}\")\n",
    "    print()"
   ]
  },
  {
   "cell_type": "code",
   "execution_count": 12,
   "id": "b3f983ea",
   "metadata": {},
   "outputs": [
    {
     "name": "stdout",
     "output_type": "stream",
     "text": [
      "Text:        mobile app\n",
      "LinearSVC:   48000000 - Software package and information systems (score 0.019731817920954978)\n"
     ]
    },
    {
     "name": "stdout",
     "output_type": "stream",
     "text": [
      "Bi-LSTM:     48000000 - Software package and information systems (score 0.8161516785621643)\n",
      "Transformer: 48000000 - Software package and information systems (score 0.9999947547912598)\n",
      "\n"
     ]
    }
   ],
   "source": [
    "classify(\"mobile app\")"
   ]
  },
  {
   "cell_type": "code",
   "execution_count": 13,
   "id": "6803770f",
   "metadata": {},
   "outputs": [
    {
     "name": "stdout",
     "output_type": "stream",
     "text": [
      "Text:        mobile billboard\n",
      "LinearSVC:   32000000 - Radio, television, communication, telecommunication and rela (score 0.015232568402872291)\n",
      "Bi-LSTM:     48000000 - Software package and information systems (score 0.12404028326272964)\n",
      "Transformer: 79340000 - Advertising and marketing services (score 0.9911177158355713)\n",
      "\n"
     ]
    }
   ],
   "source": [
    "classify(\"mobile billboard\")"
   ]
  },
  {
   "cell_type": "code",
   "execution_count": 14,
   "id": "d6bd473c",
   "metadata": {},
   "outputs": [
    {
     "name": "stdout",
     "output_type": "stream",
     "text": [
      "Text:        mobile office\n",
      "LinearSVC:   32000000 - Radio, television, communication, telecommunication and rela (score 0.013213690361260659)\n",
      "Bi-LSTM:     30200000 - Computer equipment and supplies (score 0.42848795652389526)\n",
      "Transformer: 79000000 - Business services: law, marketing, consulting, recruitment,  (score 0.49228811264038086)\n",
      "\n"
     ]
    }
   ],
   "source": [
    "classify(\"mobile office\")"
   ]
  },
  {
   "cell_type": "code",
   "execution_count": 15,
   "id": "005556c2",
   "metadata": {
    "scrolled": true
   },
   "outputs": [
    {
     "name": "stdout",
     "output_type": "stream",
     "text": [
      "Text:        mobile phone\n",
      "LinearSVC:   32000000 - Radio, television, communication, telecommunication and rela (score 0.031065103217753638)\n",
      "Bi-LSTM:     64210000 - Telephone and data transmission services (score 0.6192469596862793)\n",
      "Transformer: 32000000 - Radio, television, communication, telecommunication and rela (score 0.9982514977455139)\n",
      "\n"
     ]
    }
   ],
   "source": [
    "classify(\"mobile phone\")"
   ]
  },
  {
   "cell_type": "code",
   "execution_count": 16,
   "id": "fdbcfa1f",
   "metadata": {},
   "outputs": [
    {
     "name": "stdout",
     "output_type": "stream",
     "text": [
      "Text:        mobile phones\n",
      "LinearSVC:   32000000 - Radio, television, communication, telecommunication and rela (score 0.015232568402872291)\n",
      "Bi-LSTM:     32000000 - Radio, television, communication, telecommunication and rela (score 0.8991973996162415)\n",
      "Transformer: 32000000 - Radio, television, communication, telecommunication and rela (score 0.9999998807907104)\n",
      "\n",
      "Text:        mbile phones\n",
      "LinearSVC:   45000000 - Construction work (score 0.008864960738348727)\n",
      "Bi-LSTM:     32000000 - Radio, television, communication, telecommunication and rela (score 0.3602462708950043)\n",
      "Transformer: 32000000 - Radio, television, communication, telecommunication and rela (score 0.9999998807907104)\n",
      "\n",
      "Text:        mbl phone\n",
      "LinearSVC:   32000000 - Radio, television, communication, telecommunication and rela (score 0.02137280931172376)\n",
      "Bi-LSTM:     73110000 - Research services (score 0.04001806303858757)\n",
      "Transformer: 32000000 - Radio, television, communication, telecommunication and rela (score 0.9999904632568359)\n",
      "\n",
      "Text:        mobilephone\n",
      "LinearSVC:   45000000 - Construction work (score 0.008864960738348727)\n",
      "Bi-LSTM:     73110000 - Research services (score 0.05456916615366936)\n",
      "Transformer: 32000000 - Radio, television, communication, telecommunication and rela (score 0.9904544949531555)\n",
      "\n"
     ]
    }
   ],
   "source": [
    "# Spelling dfferences\n",
    "\n",
    "classify(\"mobile phones\")\n",
    "classify(\"mbile phones\")\n",
    "classify(\"mbl phone\")\n",
    "classify(\"mobilephone\")"
   ]
  },
  {
   "cell_type": "code",
   "execution_count": 17,
   "id": "ae849224",
   "metadata": {},
   "outputs": [
    {
     "name": "stdout",
     "output_type": "stream",
     "text": [
      "Text:        Stoneybridge Parish require a promotional and educational video for the village. This will introduce village locations such as our Stoney Bridge and Bus Shelter to an international audience.\n",
      "LinearSVC:   79340000 - Advertising and marketing services (score 0.018177768791825664)\n",
      "Bi-LSTM:     44000000 - Construction structures and materials; auxiliary products to (score 0.5624648332595825)\n",
      "Transformer: 79340000 - Advertising and marketing services (score 0.9617910385131836)\n",
      "\n"
     ]
    }
   ],
   "source": [
    "# Longer text\n",
    "\n",
    "txt = \"Stoneybridge Parish require a promotional and educational video for the village.\" + \\\n",
    "\" This will introduce village locations such as our Stoney Bridge and Bus Shelter to an international audience.\"\n",
    "classify(txt)"
   ]
  },
  {
   "cell_type": "code",
   "execution_count": 18,
   "id": "caf1c51a",
   "metadata": {
    "scrolled": true
   },
   "outputs": [
    {
     "name": "stdout",
     "output_type": "stream",
     "text": [
      "Text:        Stoneybridge Parish seeks partners to produce a promotional and educational video for the village. This will introduce village locations such as our Stoney Bridge and Bus Shelter to an international audience.\n",
      "LinearSVC:   79340000 - Advertising and marketing services (score 0.016557606589711657)\n",
      "Bi-LSTM:     44000000 - Construction structures and materials; auxiliary products to (score 0.756646454334259)\n",
      "Transformer: 92000000 - Recreational, cultural and sporting services (score 0.9576200246810913)\n",
      "\n"
     ]
    }
   ],
   "source": [
    "txt = \"Stoneybridge Parish seeks partners to produce a promotional and educational video for the village.\" + \\\n",
    "\" This will introduce village locations such as our Stoney Bridge and Bus Shelter to an international audience.\"\n",
    "classify(txt)"
   ]
  },
  {
   "cell_type": "code",
   "execution_count": 19,
   "id": "5de020c2",
   "metadata": {},
   "outputs": [
    {
     "name": "stdout",
     "output_type": "stream",
     "text": [
      "Text:        Stoneybridge Parish Council seek a partner to produce a promotional and educational video for the village. This will introduce village locations such as our Stoney Bridge and Bus Shelter to an international audience.\n",
      "LinearSVC:   79340000 - Advertising and marketing services (score 0.013756549655601491)\n",
      "Bi-LSTM:     03000000 - Agricultural, farming, fishing, forestry and related product (score 0.2669020891189575)\n",
      "Transformer: 92000000 - Recreational, cultural and sporting services (score 0.9978830218315125)\n",
      "\n"
     ]
    }
   ],
   "source": [
    "txt = \"Stoneybridge Parish Council seek a partner to produce a promotional and educational video for the village.\" + \\\n",
    "\" This will introduce village locations such as our Stoney Bridge and Bus Shelter to an international audience.\"\n",
    "classify(txt)"
   ]
  },
  {
   "cell_type": "code",
   "execution_count": 20,
   "id": "2878b8eb",
   "metadata": {},
   "outputs": [
    {
     "name": "stdout",
     "output_type": "stream",
     "text": [
      "Text:        Stoneybridge Parish Council seek a partner to produce a promotional video for the parish. The scope of this project includes recording key landmarks such as our stoney bridge and our bus shelter for posterity.\n",
      "LinearSVC:   72210000 - Programming services of packaged software products (score 0.010672523824887882)\n",
      "Bi-LSTM:     55000000 - Hotel, restaurant and retail trade services (score 0.7072287797927856)\n",
      "Transformer: 92000000 - Recreational, cultural and sporting services (score 0.9881520867347717)\n",
      "\n"
     ]
    }
   ],
   "source": [
    "txt = \"Stoneybridge Parish Council seek a partner to produce a promotional video for the parish.\" + \\\n",
    "\" The scope of this project includes recording key landmarks such as our stoney bridge and our bus shelter for posterity.\"\n",
    "classify(txt)"
   ]
  },
  {
   "cell_type": "code",
   "execution_count": null,
   "id": "395eae68",
   "metadata": {},
   "outputs": [],
   "source": []
  }
 ],
 "metadata": {
  "kernelspec": {
   "display_name": "Python 3 (ipykernel)",
   "language": "python",
   "name": "python3"
  },
  "language_info": {
   "codemirror_mode": {
    "name": "ipython",
    "version": 3
   },
   "file_extension": ".py",
   "mimetype": "text/x-python",
   "name": "python",
   "nbconvert_exporter": "python",
   "pygments_lexer": "ipython3",
   "version": "3.8.12"
  }
 },
 "nbformat": 4,
 "nbformat_minor": 5
}
